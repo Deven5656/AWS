{
 "cells": [
  {
   "cell_type": "markdown",
   "metadata": {},
   "source": [
    "'''<br>\n",
    "    @Author: Deven Gupta<br>\n",
    "    @Date: 14-09-2024<br>\n",
    "    @Last Modified by: Deven Gupta<br>\n",
    "    @Last Modified time: 14-09-2024 <br>\n",
    "    @Title : Python program to perform CRUD Operation in AWS DynamoDB using Boto3<br>\n",
    "    <br>\n",
    "'''"
   ]
  },
  {
   "cell_type": "code",
   "execution_count": 29,
   "metadata": {},
   "outputs": [],
   "source": [
    "import boto3\n",
    "from dotenv import load_dotenv"
   ]
  },
  {
   "cell_type": "code",
   "execution_count": 2,
   "metadata": {},
   "outputs": [
    {
     "data": {
      "text/plain": [
       "True"
      ]
     },
     "execution_count": 2,
     "metadata": {},
     "output_type": "execute_result"
    }
   ],
   "source": [
    "load_dotenv()"
   ]
  },
  {
   "cell_type": "markdown",
   "metadata": {},
   "source": [
    "## CRUD operation using BOTO3 in AWS DynamoDB"
   ]
  },
  {
   "cell_type": "code",
   "execution_count": 5,
   "metadata": {},
   "outputs": [],
   "source": [
    "dynamodb = boto3.resource('dynamodb', region_name='ap-south-1')"
   ]
  },
  {
   "cell_type": "markdown",
   "metadata": {},
   "source": [
    "## 1. CREATE Operation"
   ]
  },
  {
   "cell_type": "code",
   "execution_count": 6,
   "metadata": {},
   "outputs": [
    {
     "name": "stdout",
     "output_type": "stream",
     "text": [
      "Table status: CREATING\n"
     ]
    }
   ],
   "source": [
    "# Create Table\n",
    "def create_table():\n",
    "    table = dynamodb.create_table(\n",
    "        TableName='deven_dynamo_table',\n",
    "        KeySchema=[\n",
    "            {\n",
    "                'AttributeName': 'id',\n",
    "                'KeyType': 'HASH'  # Partition key\n",
    "            },\n",
    "            {\n",
    "                'AttributeName': 'location',\n",
    "                'KeyType': 'RANGE'  # Sort key\n",
    "            },\n",
    "        ],\n",
    "        AttributeDefinitions=[\n",
    "            {\n",
    "                'AttributeName': 'id',\n",
    "                'AttributeType': 'N'  # Number\n",
    "            },\n",
    "            {\n",
    "                'AttributeName': 'location',\n",
    "                'AttributeType': 'S'  # String\n",
    "            },\n",
    "        ],\n",
    "        ProvisionedThroughput={\n",
    "            'ReadCapacityUnits': 2,\n",
    "            'WriteCapacityUnits': 2\n",
    "        },\n",
    "        DeletionProtectionEnabled=False,\n",
    "    )\n",
    "    \n",
    "    print(\"Table status:\", table.table_status)\n",
    "\n",
    "create_table()\n"
   ]
  },
  {
   "cell_type": "code",
   "execution_count": 8,
   "metadata": {},
   "outputs": [
    {
     "name": "stdout",
     "output_type": "stream",
     "text": [
      "PutItem succeeded: {'ResponseMetadata': {'RequestId': 'VPHG2P7FJUEGJCQIIFJO8P1MCBVV4KQNSO5AEMVJF66Q9ASUAAJG', 'HTTPStatusCode': 200, 'HTTPHeaders': {'server': 'Server', 'date': 'Mon, 16 Sep 2024 06:07:57 GMT', 'content-type': 'application/x-amz-json-1.0', 'content-length': '2', 'connection': 'keep-alive', 'x-amzn-requestid': 'VPHG2P7FJUEGJCQIIFJO8P1MCBVV4KQNSO5AEMVJF66Q9ASUAAJG', 'x-amz-crc32': '2745614147'}, 'RetryAttempts': 0}}\n"
     ]
    }
   ],
   "source": [
    "# Insert Data (Create)\n",
    "def insert_item():\n",
    "    table = dynamodb.Table('deven_dynamo_table')\n",
    "    \n",
    "    response = table.put_item(\n",
    "        Item={\n",
    "            'id': 1,\n",
    "            'location': 'Mumbai',\n",
    "            'Name': 'Deven',\n",
    "            'Dept' : 'IT'\n",
    "        }\n",
    "    )\n",
    "    \n",
    "    print(\"PutItem succeeded:\", response)\n",
    "\n",
    "insert_item()\n"
   ]
  },
  {
   "cell_type": "markdown",
   "metadata": {},
   "source": [
    "## 2. Read Operation"
   ]
  },
  {
   "cell_type": "code",
   "execution_count": 11,
   "metadata": {},
   "outputs": [
    {
     "name": "stdout",
     "output_type": "stream",
     "text": [
      "GetItem succeeded: {'Dept': 'IT', 'location': 'Mumbai', 'id': Decimal('1'), 'Name': 'Deven'}\n"
     ]
    }
   ],
   "source": [
    "# Read Data (Retrieve)\n",
    "def get_item():\n",
    "    table = dynamodb.Table('deven_dynamo_table')\n",
    "    \n",
    "    response = table.get_item(\n",
    "        Key={\n",
    "            'id': 1,\n",
    "            'location':'Mumbai'\n",
    "\n",
    "        }\n",
    "    )\n",
    "    \n",
    "    item = response.get('Item')\n",
    "    if item:\n",
    "        print(\"GetItem succeeded:\", item)\n",
    "    else:\n",
    "        print(\"Item not found\")\n",
    "\n",
    "get_item()\n"
   ]
  },
  {
   "cell_type": "markdown",
   "metadata": {},
   "source": [
    "## 3. Update Operation"
   ]
  },
  {
   "cell_type": "code",
   "execution_count": 13,
   "metadata": {},
   "outputs": [
    {
     "name": "stdout",
     "output_type": "stream",
     "text": [
      "UpdateItem succeeded: {'Attributes': {'Dept': 'Information Technology'}, 'ResponseMetadata': {'RequestId': 'LQMOJ9KH94RMHPG7F95DI1R2O3VV4KQNSO5AEMVJF66Q9ASUAAJG', 'HTTPStatusCode': 200, 'HTTPHeaders': {'server': 'Server', 'date': 'Mon, 16 Sep 2024 06:14:53 GMT', 'content-type': 'application/x-amz-json-1.0', 'content-length': '54', 'connection': 'keep-alive', 'x-amzn-requestid': 'LQMOJ9KH94RMHPG7F95DI1R2O3VV4KQNSO5AEMVJF66Q9ASUAAJG', 'x-amz-crc32': '625012435'}, 'RetryAttempts': 0}}\n"
     ]
    }
   ],
   "source": [
    "# Update Data\n",
    "def update_item():\n",
    "    table = dynamodb.Table('deven_dynamo_table')\n",
    "    \n",
    "    response = table.update_item(\n",
    "        Key={\n",
    "            'id': 1,\n",
    "            'location':'Mumbai'\n",
    "        },\n",
    "        UpdateExpression=\"SET Dept = :val\",\n",
    "        ExpressionAttributeValues={\n",
    "            ':val': 'Information Technology'\n",
    "        },\n",
    "        ReturnValues=\"UPDATED_NEW\"\n",
    "    )\n",
    "    \n",
    "    print(\"UpdateItem succeeded:\", response)\n",
    "\n",
    "update_item()\n"
   ]
  },
  {
   "cell_type": "markdown",
   "metadata": {},
   "source": [
    "## 4. Delete Operation"
   ]
  },
  {
   "cell_type": "code",
   "execution_count": 14,
   "metadata": {},
   "outputs": [
    {
     "name": "stdout",
     "output_type": "stream",
     "text": [
      "DeleteItem succeeded: {'ResponseMetadata': {'RequestId': 'J2EIMV68N8QQAQJDN3DN3LD5TNVV4KQNSO5AEMVJF66Q9ASUAAJG', 'HTTPStatusCode': 200, 'HTTPHeaders': {'server': 'Server', 'date': 'Mon, 16 Sep 2024 06:15:33 GMT', 'content-type': 'application/x-amz-json-1.0', 'content-length': '2', 'connection': 'keep-alive', 'x-amzn-requestid': 'J2EIMV68N8QQAQJDN3DN3LD5TNVV4KQNSO5AEMVJF66Q9ASUAAJG', 'x-amz-crc32': '2745614147'}, 'RetryAttempts': 0}}\n"
     ]
    }
   ],
   "source": [
    "# Delete Data\n",
    "def delete_item():\n",
    "    table = dynamodb.Table('deven_dynamo_table')\n",
    "    \n",
    "    response = table.delete_item(\n",
    "        Key={\n",
    "            'id': 1,\n",
    "            'location':'Mumbai'\n",
    "        }\n",
    "    )\n",
    "    \n",
    "    print(\"DeleteItem succeeded:\", response)\n",
    "\n",
    "delete_item()\n"
   ]
  },
  {
   "cell_type": "markdown",
   "metadata": {},
   "source": [
    "## Import and Export data using DynamoDB"
   ]
  },
  {
   "cell_type": "markdown",
   "metadata": {},
   "source": [
    "## 1. Importing Data"
   ]
  },
  {
   "cell_type": "code",
   "execution_count": 15,
   "metadata": {},
   "outputs": [],
   "source": [
    "import csv"
   ]
  },
  {
   "cell_type": "code",
   "execution_count": 18,
   "metadata": {},
   "outputs": [
    {
     "name": "stdout",
     "output_type": "stream",
     "text": [
      "Data Imported Successfully\n"
     ]
    }
   ],
   "source": [
    "def import_data_from_csv(file_path):\n",
    "    table = dynamodb.Table('deven_dynamo_table')\n",
    "    \n",
    "    with open(file_path, mode='r') as file:\n",
    "        reader = csv.DictReader(file)\n",
    "        for row in reader:\n",
    "        # Convert the 'id' field to an integer\n",
    "            if 'id' in row:\n",
    "                row['id'] = int(row['id'])\n",
    "                \n",
    "            table.put_item(Item=row)\n",
    "\n",
    "        print(\"Data Imported Successfully\")\n",
    "\n",
    "\n",
    "import_data_from_csv('data.csv')\n"
   ]
  },
  {
   "cell_type": "markdown",
   "metadata": {},
   "source": [
    "## 2. Exporting Data"
   ]
  },
  {
   "cell_type": "code",
   "execution_count": 19,
   "metadata": {},
   "outputs": [
    {
     "name": "stdout",
     "output_type": "stream",
     "text": [
      "Data Exported Successfully\n"
     ]
    }
   ],
   "source": [
    "def export_data_to_csv(file_path):\n",
    "    table = dynamodb.Table('deven_dynamo_table')\n",
    "    \n",
    "    response = table.scan()\n",
    "    data = response['Items']\n",
    "    \n",
    "    with open(file_path, mode='w', newline='') as file:\n",
    "        writer = csv.DictWriter(file, fieldnames=data[0].keys())\n",
    "        writer.writeheader()\n",
    "        writer.writerows(data)\n",
    "\n",
    "    print(\"Data Exported Successfully\")\n",
    "\n",
    "export_data_to_csv('exported_data.csv')\n"
   ]
  },
  {
   "cell_type": "markdown",
   "metadata": {},
   "source": [
    "## Advanced CRUD Operations"
   ]
  },
  {
   "cell_type": "markdown",
   "metadata": {},
   "source": [
    "## 1. Batch Write"
   ]
  },
  {
   "cell_type": "code",
   "execution_count": 21,
   "metadata": {},
   "outputs": [
    {
     "name": "stdout",
     "output_type": "stream",
     "text": [
      "BatchWriteItem succeeded: {'UnprocessedItems': {}, 'ResponseMetadata': {'RequestId': 'E23KLVQEFD58SLQFBQT2KGL4E3VV4KQNSO5AEMVJF66Q9ASUAAJG', 'HTTPStatusCode': 200, 'HTTPHeaders': {'server': 'Server', 'date': 'Mon, 16 Sep 2024 06:44:20 GMT', 'content-type': 'application/x-amz-json-1.0', 'content-length': '23', 'connection': 'keep-alive', 'x-amzn-requestid': 'E23KLVQEFD58SLQFBQT2KGL4E3VV4KQNSO5AEMVJF66Q9ASUAAJG', 'x-amz-crc32': '4185382651'}, 'RetryAttempts': 0}}\n"
     ]
    }
   ],
   "source": [
    "#Batch Write Item (Insert/Remove)\n",
    "\n",
    "response = dynamodb.batch_write_item(\n",
    "    RequestItems={\n",
    "        'deven_dynamo_table': [\n",
    "            {\n",
    "                'PutRequest': {\n",
    "                    'Item': {\n",
    "                        'id': 5,\n",
    "                        'location' : 'Navi Mumbai',\n",
    "                        'Name': 'Nikhil Patil',\n",
    "                        'Dept': 'Comps'\n",
    "                    }\n",
    "                }\n",
    "            },\n",
    "            {\n",
    "                'DeleteRequest': {\n",
    "                    'Key': {\n",
    "                        'id': 4,\n",
    "                        'location': 'Panvel'\n",
    "                    }\n",
    "                }\n",
    "            }\n",
    "        ]\n",
    "    }\n",
    ")\n",
    "\n",
    "print(\"BatchWriteItem succeeded:\", response)\n"
   ]
  },
  {
   "attachments": {
    "image-2.png": {
     "image/png": "[encoded data removed]"
    },
    "image.png": {
     "image/png": "[encoded data removed]"
    }
   },
   "cell_type": "markdown",
   "metadata": {},
   "source": [
    "![image.png](attachment:image.png)\n",
    "\n",
    "![image-2.png](attachment:image-2.png)"
   ]
  },
  {
   "cell_type": "markdown",
   "metadata": {},
   "source": [
    "## 2. Batch Get (Read)"
   ]
  },
  {
   "cell_type": "code",
   "execution_count": 22,
   "metadata": {},
   "outputs": [
    {
     "name": "stdout",
     "output_type": "stream",
     "text": [
      "BatchGetItem succeeded: [{'Dept': 'IT', 'location': 'Mumbai', 'id': Decimal('1'), 'Name': 'Deven Gupta'}, {'Dept': 'Comps', 'location': 'Navi Mumbai', 'id': Decimal('5'), 'Name': 'Nikhil Patil'}]\n"
     ]
    }
   ],
   "source": [
    "#Batch Get Item (Retrieve)\n",
    "\n",
    "response = dynamodb.batch_get_item(\n",
    "    RequestItems={\n",
    "        'deven_dynamo_table': {\n",
    "            'Keys': [\n",
    "                {'id': 1 ,'location': 'Mumbai'},\n",
    "                {'id': 5 ,'location': 'Navi Mumbai'}\n",
    "            ]\n",
    "        }\n",
    "    }\n",
    ")\n",
    "\n",
    "items = response['Responses']['deven_dynamo_table']\n",
    "print(\"BatchGetItem succeeded:\", items)\n"
   ]
  },
  {
   "cell_type": "markdown",
   "metadata": {},
   "source": [
    "## Query and Scan Operations"
   ]
  },
  {
   "cell_type": "markdown",
   "metadata": {},
   "source": [
    "## 1. Query"
   ]
  },
  {
   "cell_type": "code",
   "execution_count": 23,
   "metadata": {},
   "outputs": [],
   "source": [
    "table = dynamodb.Table('deven_dynamo_table')"
   ]
  },
  {
   "cell_type": "code",
   "execution_count": 24,
   "metadata": {},
   "outputs": [
    {
     "name": "stdout",
     "output_type": "stream",
     "text": [
      "Query succeeded: [{'Dept': 'IT', 'location': 'Mumbai', 'id': Decimal('1'), 'Name': 'Deven Gupta'}]\n"
     ]
    }
   ],
   "source": [
    "response = table.query(\n",
    "    KeyConditionExpression='id = :id',\n",
    "    ExpressionAttributeValues={\n",
    "        ':id': 1\n",
    "    }\n",
    ")\n",
    "\n",
    "items = response['Items']\n",
    "print(\"Query succeeded:\", items)\n"
   ]
  },
  {
   "cell_type": "markdown",
   "metadata": {},
   "source": [
    "## 2. Scan"
   ]
  },
  {
   "cell_type": "code",
   "execution_count": 27,
   "metadata": {},
   "outputs": [
    {
     "name": "stdout",
     "output_type": "stream",
     "text": [
      "Scan succeeded: [{'Dept': 'IT', 'location': 'Mumbai', 'id': Decimal('3'), 'Name': 'Prayag Bhoir'}, {'Dept': 'IT', 'location': 'Mumbai', 'id': Decimal('1'), 'Name': 'Deven Gupta'}]\n"
     ]
    }
   ],
   "source": [
    "response = table.scan(\n",
    "    FilterExpression='Dept = :dept',\n",
    "    ExpressionAttributeValues={\n",
    "        ':dept': 'IT'\n",
    "    }\n",
    ")\n",
    "\n",
    "items = response['Items']\n",
    "print(\"Scan succeeded:\", items)\n"
   ]
  },
  {
   "cell_type": "markdown",
   "metadata": {},
   "source": [
    "## Handling Exceptions\n"
   ]
  },
  {
   "cell_type": "code",
   "execution_count": 28,
   "metadata": {},
   "outputs": [
    {
     "name": "stdout",
     "output_type": "stream",
     "text": [
      "Error occurred: The provided key element does not match the schema\n"
     ]
    }
   ],
   "source": [
    "from botocore.exceptions import ClientError\n",
    "\n",
    "try:\n",
    "    response = table.get_item(Key={'id': '1'})\n",
    "    item = response.get('Item')\n",
    "    print(\"Item retrieved:\", item)\n",
    "except ClientError as e:\n",
    "    print(\"Error occurred:\", e.response['Error']['Message'])\n"
   ]
  }
 ],
 "metadata": {
  "kernelspec": {
   "display_name": "Python 3",
   "language": "python",
   "name": "python3"
  },
  "language_info": {
   "codemirror_mode": {
    "name": "ipython",
    "version": 3
   },
   "file_extension": ".py",
   "mimetype": "text/x-python",
   "name": "python",
   "nbconvert_exporter": "python",
   "pygments_lexer": "ipython3",
   "version": "3.12.4"
  }
 },
 "nbformat": 4,
 "nbformat_minor": 2
}
