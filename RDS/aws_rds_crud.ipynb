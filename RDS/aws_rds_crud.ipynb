{
 "cells": [
  {
   "cell_type": "markdown",
   "metadata": {},
   "source": [
    "'''<br>\n",
    "    @Author: Deven Gupta<br>\n",
    "    @Date: 13-09-2024<br>\n",
    "    @Last Modified by: Deven Gupta<br>\n",
    "    @Last Modified time: 13-09-2024 <br>\n",
    "    @Title : Python program to perform CRUD Operation on RDS using Boto3<br>\n",
    "    <br>\n",
    "'''"
   ]
  },
  {
   "cell_type": "code",
   "execution_count": null,
   "metadata": {},
   "outputs": [],
   "source": [
    "import boto3\n",
    "from dotenv import load_dotenv"
   ]
  },
  {
   "cell_type": "code",
   "execution_count": null,
   "metadata": {},
   "outputs": [],
   "source": [
    "load_dotenv()"
   ]
  },
  {
   "cell_type": "code",
   "execution_count": null,
   "metadata": {},
   "outputs": [],
   "source": [
    "rds = boto3.client('rds')"
   ]
  },
  {
   "cell_type": "markdown",
   "metadata": {},
   "source": [
    "## CRUD OPERATION 0N AWS RDS"
   ]
  },
  {
   "cell_type": "markdown",
   "metadata": {},
   "source": [
    "<h3 style='color:yellow'>Create RDS Istance</h3>"
   ]
  },
  {
   "cell_type": "code",
   "execution_count": null,
   "metadata": {},
   "outputs": [],
   "source": [
    "# Create a new RDS instance\n",
    "response = rds.create_db_instance(\n",
    "    DBInstanceIdentifier='deven-database-instance',\n",
    "    MasterUsername='admin',\n",
    "    MasterUserPassword='Deven5656',\n",
    "    DBInstanceClass='db.t2.micro',  # Free tier instance type\n",
    "    Engine='mssql',  # type of engine you want.\n",
    "    AllocatedStorage=20,  # Storage size in GB\n",
    "    PubliclyAccessible=True,  # Make the instance publicly accessible\n",
    ")\n",
    "\n",
    "print(response)"
   ]
  },
  {
   "cell_type": "markdown",
   "metadata": {},
   "source": [
    "<h3 style='color:yellow'>Read(List) RDS Istance</h3>"
   ]
  },
  {
   "cell_type": "code",
   "execution_count": null,
   "metadata": {},
   "outputs": [],
   "source": [
    "# List all RDS instances\n",
    "response = rds.describe_db_instances()\n",
    "\n",
    "for db_instance in response['DBInstances']:\n",
    "    print(f\"DBInstanceIdentifier: {db_instance['DBInstanceIdentifier']}\")\n",
    "    print(f\"Engine: {db_instance['Engine']}\")\n",
    "    print(f\"Endpoint: {db_instance['Endpoint']['Address']}\")\n",
    "    print(f\"Port: {db_instance['Endpoint']['Port']}\")\n",
    "    print()\n"
   ]
  },
  {
   "cell_type": "markdown",
   "metadata": {},
   "source": [
    "<h3 style='color:yellow'>Update(Modify) RDS Istance</h3>"
   ]
  },
  {
   "cell_type": "code",
   "execution_count": null,
   "metadata": {},
   "outputs": [],
   "source": [
    "# Modify an RDS instance\n",
    "response = rds.modify_db_instance(\n",
    "    DBInstanceIdentifier='deven-database-instance',\n",
    "    DBInstanceClass='db.t3.micro',  # Change instance type\n",
    "    AllocatedStorage=30,  # Increase storage\n",
    "    ApplyImmediately=True  # Apply changes immediately\n",
    ")\n",
    "\n",
    "print(response)\n"
   ]
  },
  {
   "cell_type": "markdown",
   "metadata": {},
   "source": [
    "<h3 style='color:yellow'>Delete RDS Istance</h3>"
   ]
  },
  {
   "cell_type": "code",
   "execution_count": null,
   "metadata": {},
   "outputs": [],
   "source": [
    "# Delete an RDS instance\n",
    "response = rds.delete_db_instance(\n",
    "    DBInstanceIdentifier='deven-database-instance',\n",
    "    SkipFinalSnapshot=True  # Skip final snapshot before deletion\n",
    ")\n",
    "\n",
    "print(response)"
   ]
  }
 ],
 "metadata": {
  "kernelspec": {
   "display_name": "Python 3",
   "language": "python",
   "name": "python3"
  },
  "language_info": {
   "codemirror_mode": {
    "name": "ipython",
    "version": 3
   },
   "file_extension": ".py",
   "mimetype": "text/x-python",
   "name": "python",
   "nbconvert_exporter": "python",
   "pygments_lexer": "ipython3",
   "version": "3.12.4"
  }
 },
 "nbformat": 4,
 "nbformat_minor": 2
}
